{
 "cells": [
  {
   "cell_type": "code",
   "execution_count": 58,
   "metadata": {},
   "outputs": [],
   "source": [
    "import pandas as pd\n",
    "import psycopg2\n",
    "import time\n",
    "\n",
    "from datetime import datetime, date\n",
    "from psycopg2.errors import Error\n",
    "\n",
    "from sqlalchemy import create_engine  \n",
    "from sqlalchemy import Column, String, DateTime, Date, BigInteger, Text, Integer, Boolean\n",
    "from sqlalchemy.ext.declarative import declarative_base  \n",
    "from sqlalchemy.orm import sessionmaker\n",
    "from sqlalchemy.sql import func"
   ]
  },
  {
   "cell_type": "markdown",
   "metadata": {},
   "source": [
    "### Connection Parameters"
   ]
  },
  {
   "cell_type": "code",
   "execution_count": 5,
   "metadata": {},
   "outputs": [],
   "source": [
    "hostname= 'localhost'\n",
    "port=5432\n",
    "user='postgres'\n",
    "password='postgres'\n",
    "database='sentiment-dc_development'"
   ]
  },
  {
   "cell_type": "markdown",
   "metadata": {},
   "source": [
    "## Psycopg2"
   ]
  },
  {
   "cell_type": "code",
   "execution_count": 8,
   "metadata": {},
   "outputs": [],
   "source": [
    "def create_server_connection(hostname, port, user, password, database):\n",
    "\n",
    "    try:\n",
    "        connection = psycopg2.connect(\n",
    "            host=hostname,\n",
    "            port=port,\n",
    "            user=user,\n",
    "            password=password,\n",
    "            database=database\n",
    "        )\n",
    "        print(\"Postgres Database connection successful\")\n",
    "    except Error as err:\n",
    "        print(f\"Error: '{err}'\")\n",
    "        raise err\n",
    "\n",
    "    return connection"
   ]
  },
  {
   "cell_type": "code",
   "execution_count": 9,
   "metadata": {},
   "outputs": [
    {
     "name": "stdout",
     "output_type": "stream",
     "text": [
      "Postgres Database connection successful\n"
     ]
    }
   ],
   "source": [
    "conn = create_server_connection(\n",
    "    hostname=hostname,\n",
    "    user=user,\n",
    "    password=password,\n",
    "    port=port,\n",
    "    database=database, \n",
    "    )"
   ]
  },
  {
   "cell_type": "code",
   "execution_count": 10,
   "metadata": {},
   "outputs": [],
   "source": [
    "def list_tables(conn, query=None):\n",
    "    \n",
    "    if query is None:\n",
    "        query = '''\n",
    "                SELECT *\n",
    "                FROM pg_catalog.pg_tables\n",
    "                WHERE schemaname != 'pg_catalog' AND schemaname != 'information_schema';\n",
    "                '''\n",
    "\n",
    "    with conn.cursor() as cursor:\n",
    "        try: \n",
    "            cursor.execute(query)\n",
    "        except Error as err:\n",
    "            print(f\"Error: '{err}'\")\n",
    "            raise\n",
    "        \n",
    "        for table in cursor.fetchall():\n",
    "            yield table"
   ]
  },
  {
   "cell_type": "code",
   "execution_count": 11,
   "metadata": {},
   "outputs": [
    {
     "name": "stdout",
     "output_type": "stream",
     "text": [
      "('public', 'schema_migrations', 'postgres', None, True, False, False, False)\n",
      "('public', 'ar_internal_metadata', 'postgres', None, True, False, False, False)\n",
      "('public', 'products', 'postgres', None, True, False, False, False)\n",
      "('public', 'spaces', 'postgres', None, True, False, True, False)\n",
      "('public', 'lists', 'postgres', None, True, False, True, False)\n",
      "('public', 'checklists', 'postgres', None, True, False, True, False)\n",
      "('public', 'tasks', 'postgres', None, True, False, True, False)\n",
      "('public', 'users', 'postgres', None, True, False, True, False)\n",
      "('public', 'items', 'postgres', None, True, False, True, False)\n",
      "('public', 'tasks_users', 'postgres', None, True, False, False, False)\n",
      "('public', 'property_settings', 'postgres', None, True, False, False, False)\n",
      "('public', 'availabilities', 'postgres', None, True, False, False, False)\n",
      "('public', 'availabilities_users', 'postgres', None, True, False, False, False)\n",
      "('public', 'branches', 'postgres', None, True, False, True, False)\n",
      "('public', 'commits', 'postgres', None, True, False, True, False)\n",
      "('public', 'daily_reports', 'postgres', None, True, False, False, False)\n",
      "('public', 'daily_availabilities', 'postgres', None, True, False, False, False)\n"
     ]
    }
   ],
   "source": [
    "for table in list_tables(conn):\n",
    "    print(table)"
   ]
  },
  {
   "cell_type": "markdown",
   "metadata": {},
   "source": [
    "## SQL Alchemy"
   ]
  },
  {
   "cell_type": "code",
   "execution_count": 16,
   "metadata": {},
   "outputs": [],
   "source": [
    "def create_server_connection(hostname, port, user, password, database):\n",
    "    \n",
    "    db_string = f\"postgresql://{user}:{password}@{hostname}:{port}/{database}\"\n",
    "\n",
    "    connection = create_engine(db_string)\n",
    "    print(\"Postgres Database connection successful\")\n",
    "\n",
    "    return connection"
   ]
  },
  {
   "cell_type": "code",
   "execution_count": 17,
   "metadata": {},
   "outputs": [
    {
     "name": "stdout",
     "output_type": "stream",
     "text": [
      "Postgres Database connection successful\n"
     ]
    }
   ],
   "source": [
    "conn = create_server_connection(\n",
    "    hostname=hostname,\n",
    "    user=user,\n",
    "    password=password,\n",
    "    port=port,\n",
    "    database=database, \n",
    "    )"
   ]
  },
  {
   "cell_type": "code",
   "execution_count": 18,
   "metadata": {},
   "outputs": [],
   "source": [
    "def create_pandas_table(sql_query, database = conn):\n",
    "    table = pd.read_sql_query(sql_query, database)\n",
    "    return table"
   ]
  },
  {
   "cell_type": "code",
   "execution_count": 19,
   "metadata": {},
   "outputs": [
    {
     "data": {
      "text/html": [
       "<div>\n",
       "<style scoped>\n",
       "    .dataframe tbody tr th:only-of-type {\n",
       "        vertical-align: middle;\n",
       "    }\n",
       "\n",
       "    .dataframe tbody tr th {\n",
       "        vertical-align: top;\n",
       "    }\n",
       "\n",
       "    .dataframe thead th {\n",
       "        text-align: right;\n",
       "    }\n",
       "</style>\n",
       "<table border=\"1\" class=\"dataframe\">\n",
       "  <thead>\n",
       "    <tr style=\"text-align: right;\">\n",
       "      <th></th>\n",
       "      <th>schemaname</th>\n",
       "      <th>tablename</th>\n",
       "      <th>tableowner</th>\n",
       "      <th>tablespace</th>\n",
       "      <th>hasindexes</th>\n",
       "      <th>hasrules</th>\n",
       "      <th>hastriggers</th>\n",
       "      <th>rowsecurity</th>\n",
       "    </tr>\n",
       "  </thead>\n",
       "  <tbody>\n",
       "    <tr>\n",
       "      <th>0</th>\n",
       "      <td>public</td>\n",
       "      <td>schema_migrations</td>\n",
       "      <td>postgres</td>\n",
       "      <td>None</td>\n",
       "      <td>True</td>\n",
       "      <td>False</td>\n",
       "      <td>False</td>\n",
       "      <td>False</td>\n",
       "    </tr>\n",
       "    <tr>\n",
       "      <th>1</th>\n",
       "      <td>public</td>\n",
       "      <td>ar_internal_metadata</td>\n",
       "      <td>postgres</td>\n",
       "      <td>None</td>\n",
       "      <td>True</td>\n",
       "      <td>False</td>\n",
       "      <td>False</td>\n",
       "      <td>False</td>\n",
       "    </tr>\n",
       "    <tr>\n",
       "      <th>2</th>\n",
       "      <td>public</td>\n",
       "      <td>products</td>\n",
       "      <td>postgres</td>\n",
       "      <td>None</td>\n",
       "      <td>True</td>\n",
       "      <td>False</td>\n",
       "      <td>False</td>\n",
       "      <td>False</td>\n",
       "    </tr>\n",
       "    <tr>\n",
       "      <th>3</th>\n",
       "      <td>public</td>\n",
       "      <td>spaces</td>\n",
       "      <td>postgres</td>\n",
       "      <td>None</td>\n",
       "      <td>True</td>\n",
       "      <td>False</td>\n",
       "      <td>True</td>\n",
       "      <td>False</td>\n",
       "    </tr>\n",
       "    <tr>\n",
       "      <th>4</th>\n",
       "      <td>public</td>\n",
       "      <td>lists</td>\n",
       "      <td>postgres</td>\n",
       "      <td>None</td>\n",
       "      <td>True</td>\n",
       "      <td>False</td>\n",
       "      <td>True</td>\n",
       "      <td>False</td>\n",
       "    </tr>\n",
       "    <tr>\n",
       "      <th>5</th>\n",
       "      <td>public</td>\n",
       "      <td>checklists</td>\n",
       "      <td>postgres</td>\n",
       "      <td>None</td>\n",
       "      <td>True</td>\n",
       "      <td>False</td>\n",
       "      <td>True</td>\n",
       "      <td>False</td>\n",
       "    </tr>\n",
       "    <tr>\n",
       "      <th>6</th>\n",
       "      <td>public</td>\n",
       "      <td>tasks</td>\n",
       "      <td>postgres</td>\n",
       "      <td>None</td>\n",
       "      <td>True</td>\n",
       "      <td>False</td>\n",
       "      <td>True</td>\n",
       "      <td>False</td>\n",
       "    </tr>\n",
       "    <tr>\n",
       "      <th>7</th>\n",
       "      <td>public</td>\n",
       "      <td>users</td>\n",
       "      <td>postgres</td>\n",
       "      <td>None</td>\n",
       "      <td>True</td>\n",
       "      <td>False</td>\n",
       "      <td>True</td>\n",
       "      <td>False</td>\n",
       "    </tr>\n",
       "    <tr>\n",
       "      <th>8</th>\n",
       "      <td>public</td>\n",
       "      <td>items</td>\n",
       "      <td>postgres</td>\n",
       "      <td>None</td>\n",
       "      <td>True</td>\n",
       "      <td>False</td>\n",
       "      <td>True</td>\n",
       "      <td>False</td>\n",
       "    </tr>\n",
       "    <tr>\n",
       "      <th>9</th>\n",
       "      <td>public</td>\n",
       "      <td>tasks_users</td>\n",
       "      <td>postgres</td>\n",
       "      <td>None</td>\n",
       "      <td>True</td>\n",
       "      <td>False</td>\n",
       "      <td>False</td>\n",
       "      <td>False</td>\n",
       "    </tr>\n",
       "    <tr>\n",
       "      <th>10</th>\n",
       "      <td>public</td>\n",
       "      <td>property_settings</td>\n",
       "      <td>postgres</td>\n",
       "      <td>None</td>\n",
       "      <td>True</td>\n",
       "      <td>False</td>\n",
       "      <td>False</td>\n",
       "      <td>False</td>\n",
       "    </tr>\n",
       "    <tr>\n",
       "      <th>11</th>\n",
       "      <td>public</td>\n",
       "      <td>availabilities</td>\n",
       "      <td>postgres</td>\n",
       "      <td>None</td>\n",
       "      <td>True</td>\n",
       "      <td>False</td>\n",
       "      <td>False</td>\n",
       "      <td>False</td>\n",
       "    </tr>\n",
       "    <tr>\n",
       "      <th>12</th>\n",
       "      <td>public</td>\n",
       "      <td>availabilities_users</td>\n",
       "      <td>postgres</td>\n",
       "      <td>None</td>\n",
       "      <td>True</td>\n",
       "      <td>False</td>\n",
       "      <td>False</td>\n",
       "      <td>False</td>\n",
       "    </tr>\n",
       "    <tr>\n",
       "      <th>13</th>\n",
       "      <td>public</td>\n",
       "      <td>branches</td>\n",
       "      <td>postgres</td>\n",
       "      <td>None</td>\n",
       "      <td>True</td>\n",
       "      <td>False</td>\n",
       "      <td>True</td>\n",
       "      <td>False</td>\n",
       "    </tr>\n",
       "    <tr>\n",
       "      <th>14</th>\n",
       "      <td>public</td>\n",
       "      <td>commits</td>\n",
       "      <td>postgres</td>\n",
       "      <td>None</td>\n",
       "      <td>True</td>\n",
       "      <td>False</td>\n",
       "      <td>True</td>\n",
       "      <td>False</td>\n",
       "    </tr>\n",
       "    <tr>\n",
       "      <th>15</th>\n",
       "      <td>public</td>\n",
       "      <td>daily_reports</td>\n",
       "      <td>postgres</td>\n",
       "      <td>None</td>\n",
       "      <td>True</td>\n",
       "      <td>False</td>\n",
       "      <td>False</td>\n",
       "      <td>False</td>\n",
       "    </tr>\n",
       "    <tr>\n",
       "      <th>16</th>\n",
       "      <td>public</td>\n",
       "      <td>daily_availabilities</td>\n",
       "      <td>postgres</td>\n",
       "      <td>None</td>\n",
       "      <td>True</td>\n",
       "      <td>False</td>\n",
       "      <td>False</td>\n",
       "      <td>False</td>\n",
       "    </tr>\n",
       "  </tbody>\n",
       "</table>\n",
       "</div>"
      ],
      "text/plain": [
       "   schemaname             tablename tableowner tablespace  hasindexes  \\\n",
       "0      public     schema_migrations   postgres       None        True   \n",
       "1      public  ar_internal_metadata   postgres       None        True   \n",
       "2      public              products   postgres       None        True   \n",
       "3      public                spaces   postgres       None        True   \n",
       "4      public                 lists   postgres       None        True   \n",
       "5      public            checklists   postgres       None        True   \n",
       "6      public                 tasks   postgres       None        True   \n",
       "7      public                 users   postgres       None        True   \n",
       "8      public                 items   postgres       None        True   \n",
       "9      public           tasks_users   postgres       None        True   \n",
       "10     public     property_settings   postgres       None        True   \n",
       "11     public        availabilities   postgres       None        True   \n",
       "12     public  availabilities_users   postgres       None        True   \n",
       "13     public              branches   postgres       None        True   \n",
       "14     public               commits   postgres       None        True   \n",
       "15     public         daily_reports   postgres       None        True   \n",
       "16     public  daily_availabilities   postgres       None        True   \n",
       "\n",
       "    hasrules  hastriggers  rowsecurity  \n",
       "0      False        False        False  \n",
       "1      False        False        False  \n",
       "2      False        False        False  \n",
       "3      False         True        False  \n",
       "4      False         True        False  \n",
       "5      False         True        False  \n",
       "6      False         True        False  \n",
       "7      False         True        False  \n",
       "8      False         True        False  \n",
       "9      False        False        False  \n",
       "10     False        False        False  \n",
       "11     False        False        False  \n",
       "12     False        False        False  \n",
       "13     False         True        False  \n",
       "14     False         True        False  \n",
       "15     False        False        False  \n",
       "16     False        False        False  "
      ]
     },
     "execution_count": 19,
     "metadata": {},
     "output_type": "execute_result"
    }
   ],
   "source": [
    "create_pandas_table('''\n",
    "                SELECT *\n",
    "                FROM pg_catalog.pg_tables\n",
    "                WHERE schemaname != 'pg_catalog' AND schemaname != 'information_schema';\n",
    "                ''', conn )"
   ]
  },
  {
   "cell_type": "code",
   "execution_count": 61,
   "metadata": {},
   "outputs": [],
   "source": [
    "base = declarative_base()"
   ]
  },
  {
   "cell_type": "code",
   "execution_count": 62,
   "metadata": {},
   "outputs": [],
   "source": [
    "class Task(base):\n",
    "    __tablename__ = 'tasks'\n",
    "    \n",
    "    id = Column(BigInteger, primary_key=True, autoincrement=True)\n",
    "    cid = Column(String)\n",
    "    name = Column(String)\n",
    "    description = Column(Text)\n",
    "    parent = Column(String)\n",
    "    parent = Column(String)\n",
    "    status = Column(Integer)\n",
    "    archived = Column(Boolean)\n",
    "    due_date = Column(DateTime)\n",
    "    date_created = Column(DateTime)\n",
    "    date_closed = Column(DateTime)\n",
    "    created_at = Column(DateTime, nullable=False, default=func.now())\n",
    "    updated_at = Column(DateTime, nullable=False, default=func.now())\n",
    "    list_id = Column(BigInteger)\n",
    "    priority = Column(Integer)\n",
    "    branch_id = Column(BigInteger)"
   ]
  },
  {
   "cell_type": "code",
   "execution_count": 63,
   "metadata": {},
   "outputs": [],
   "source": [
    "Session = sessionmaker(conn)  \n",
    "session = Session()\n",
    "\n",
    "base.metadata.create_all(conn)"
   ]
  },
  {
   "cell_type": "code",
   "execution_count": 73,
   "metadata": {},
   "outputs": [],
   "source": [
    "# Create\n",
    "def create_obj(obj, session):\n",
    "    session.add(obj)  \n",
    "    session.commit()\n",
    "\n",
    "# Read\n",
    "def list_obj(table_obj, session):\n",
    "    objs = session.query(table_obj)\n",
    "    for obj in objs:\n",
    "        yield obj\n",
    "\n",
    "# Update        \n",
    "def update_obj(obj, session):\n",
    "    # task.name = \"Task Name\"  \n",
    "    session.commit()\n",
    "\n",
    "# Delete\n",
    "def delete_obj(obj, session):\n",
    "    session.delete(obj)\n",
    "    session.commit()"
   ]
  },
  {
   "cell_type": "code",
   "execution_count": 70,
   "metadata": {},
   "outputs": [],
   "source": [
    "second_task = Task(\n",
    "    name='Second Task',\n",
    "    description='Second task on Sentiment-dc'\n",
    ")\n",
    "create_obj(second_task, session)"
   ]
  },
  {
   "cell_type": "markdown",
   "metadata": {},
   "source": [
    "### Reflect Tables in DB"
   ]
  },
  {
   "cell_type": "code",
   "execution_count": 74,
   "metadata": {},
   "outputs": [],
   "source": [
    "base.metadata.reflect(conn)"
   ]
  },
  {
   "cell_type": "code",
   "execution_count": 76,
   "metadata": {},
   "outputs": [],
   "source": [
    "class Users(base):\n",
    "    __table__ = base.metadata.tables[\"users\"]"
   ]
  },
  {
   "cell_type": "code",
   "execution_count": 82,
   "metadata": {},
   "outputs": [],
   "source": [
    "class Tasks(base):\n",
    "        __table__ = base.metadata.tables[\"tasks\"]"
   ]
  },
  {
   "cell_type": "code",
   "execution_count": 81,
   "metadata": {},
   "outputs": [
    {
     "name": "stdout",
     "output_type": "stream",
     "text": [
      "Sue Welch\n",
      "Ryan Turner\n",
      "Dominic Hemmings\n",
      "Abigail Henderson\n",
      "Karen Bell\n",
      "Piers Thomson\n"
     ]
    }
   ],
   "source": [
    "for user in list_obj(Users, session):\n",
    "    print(user.username)"
   ]
  },
  {
   "cell_type": "code",
   "execution_count": 87,
   "metadata": {},
   "outputs": [
    {
     "name": "stdout",
     "output_type": "stream",
     "text": [
      "First Task\n",
      "Second Task\n"
     ]
    }
   ],
   "source": [
    "for task in list_obj(Tasks, session):\n",
    "    print(task.name)"
   ]
  },
  {
   "cell_type": "code",
   "execution_count": null,
   "metadata": {},
   "outputs": [],
   "source": []
  }
 ],
 "metadata": {
  "kernelspec": {
   "display_name": "Python 3.11.0 ('venv': venv)",
   "language": "python",
   "name": "python3"
  },
  "language_info": {
   "codemirror_mode": {
    "name": "ipython",
    "version": 3
   },
   "file_extension": ".py",
   "mimetype": "text/x-python",
   "name": "python",
   "nbconvert_exporter": "python",
   "pygments_lexer": "ipython3",
   "version": "3.11.0"
  },
  "orig_nbformat": 4,
  "vscode": {
   "interpreter": {
    "hash": "2e51deeabad09f848f848a67559c26b6121cadf7767e892d0e8d2b36b032fcfc"
   }
  }
 },
 "nbformat": 4,
 "nbformat_minor": 2
}
